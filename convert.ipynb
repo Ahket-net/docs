{
 "cells": [
  {
   "cell_type": "code",
   "execution_count": 1,
   "metadata": {},
   "outputs": [
    {
     "name": "stdout",
     "output_type": "stream",
     "text": [
      "Copied and converted: Investment.md to TXT/Investment.txt\n",
      "Copied and converted: README.md to TXT/README.txt\n",
      "Copied and converted: modified_README.md.bak to TXT/README.txt\n",
      "Copied and converted: AHK Token.md to TXT/AHK Token.txt\n",
      "Copied and converted: CADET Reference Manual.md to TXT/CADET Reference Manual.txt\n",
      "Copied and converted: Example.md to TXT/Example.txt\n",
      "Copied and converted: Legal Framework.md to TXT/Legal Framework.txt\n",
      "Copied and converted: Marketing and Sales.md to TXT/Marketing and Sales.txt\n",
      "Copied and converted: STASH Reference Manual.md to TXT/STASH Reference Manual.txt\n",
      "Copied and converted: Strategy.md to TXT/Strategy.txt\n",
      "Copied and converted: VAO Reference Manual.md to TXT/VAO Reference Manual.txt\n",
      "Copied and converted: VAO User Manual.md to TXT/VAO User Manual.txt\n"
     ]
    }
   ],
   "source": [
    "import os\n",
    "import shutil\n",
    "import fileinput\n",
    "\n",
    "def modify_readme(file_path):\n",
    "    # Use fileinput to edit the file in-place, changing .md to .txt\n",
    "    with fileinput.FileInput(file_path, inplace=True, backup='.bak') as file:\n",
    "        for line in file:\n",
    "            # Replace .md with .txt in each line\n",
    "            print(line.replace('.md', '.txt'), end='')\n",
    "\n",
    "def copy_md_to_txt(source_dir, target_dir):\n",
    "    # Ensure the target directory exists\n",
    "    os.makedirs(target_dir, exist_ok=True)\n",
    "\n",
    "    # Loop through all files in the source directory\n",
    "    for filename in os.listdir(source_dir):\n",
    "        # Construct the full path to the source file\n",
    "        source_file = os.path.join(source_dir, filename)\n",
    "\n",
    "        if filename.lower() == 'readme.md':\n",
    "            # If the file is a README.md, modify it before copying\n",
    "            modified_file_path = os.path.join(source_dir, 'modified_' + filename)\n",
    "            shutil.copy(source_file, modified_file_path)\n",
    "            modify_readme(modified_file_path)\n",
    "            # Change the target file's extension to .txt\n",
    "            target_file = os.path.join(target_dir, 'README.txt')\n",
    "            # Move the modified file to the target directory\n",
    "            shutil.move(modified_file_path, target_file)\n",
    "        elif filename.endswith('.md'):\n",
    "            # For other .md files, just change the extension to .txt\n",
    "            target_file = os.path.join(target_dir, filename[:-3] + '.txt')\n",
    "            # Copy the file to the target directory with the new extension\n",
    "            shutil.copy(source_file, target_file)\n",
    "\n",
    "        print(f\"Copied and converted: {filename} to {target_file}\")\n",
    "\n",
    "\n",
    "# Example usage\n",
    "source_directory = 'MD'\n",
    "target_directory = 'TXT'\n",
    "copy_md_to_txt(source_directory, target_directory)\n"
   ]
  },
  {
   "cell_type": "code",
   "execution_count": 10,
   "metadata": {},
   "outputs": [
    {
     "name": "stdout",
     "output_type": "stream",
     "text": [
      "\n",
      "Here is a block equation:\n",
      "$$x = {-b \\pm \\sqrt{b^2-4ac} \\over 2a}$$\n",
      "\n",
      "And here is an inline equation: $a^2 + b^2 = c^2$\n",
      "\n"
     ]
    }
   ],
   "source": [
    "import re\n",
    "\n",
    "def convert_equation_brackets(content):\n",
    "    # Convert block equations from \\[ \\] to $$, removing spaces adjacent to the brackets\n",
    "    content = re.sub(r'\\\\\\[\\s*(.*?)\\s*\\\\\\]', r'$$\\1$$', content, flags=re.DOTALL)\n",
    "    \n",
    "    # Convert inline equations from \\( \\) to $, removing spaces adjacent to the brackets\n",
    "    content = re.sub(r'\\\\\\(\\s*(.*?)\\s*\\\\\\)', r'$\\1$', content, flags=re.DOTALL)\n",
    "    \n",
    "    return content\n",
    "\n",
    "# Example usage:\n",
    "markdown_content = \"\"\"\n",
    "Here is a block equation:\n",
    "\\[ x = {-b \\\\pm \\\\sqrt{b^2-4ac} \\\\over 2a} \\]\n",
    "\n",
    "And here is an inline equation: \\( a^2 + b^2 = c^2 \\)\n",
    "\"\"\"\n",
    "\n",
    "converted_content = convert_equation_brackets(markdown_content)\n",
    "print(converted_content)\n"
   ]
  },
  {
   "cell_type": "code",
   "execution_count": 34,
   "metadata": {},
   "outputs": [
    {
     "name": "stdout",
     "output_type": "stream",
     "text": [
      "\n",
      "Here is a block equation:\n",
      "\\[ x = {-b \\pm \\sqrt{b^2-4ac} \\over 2a} \\]\n",
      "\n",
      "Remember theat I have $5.00 and you gave me $10.00. I also have a variable called \\( VF.\n",
      "\n",
      "And here is an inline equation: \\)a^2 + b^2 = c^2$\n",
      "\n"
     ]
    }
   ],
   "source": [
    "import re\n",
    "\n",
    "def convert_equation_brackets_back(content):\n",
    "    # Convert block equations from $$ to \\[ \\], ensuring no spaces around the content\n",
    "    content = re.sub(r'\\$\\$(.*?)(?<! )\\$\\$', r'\\\\[ \\1 \\\\]', content, flags=re.DOTALL)\n",
    "    \n",
    "    # Convert inline equations from $ to \\( \\)\n",
    "\n",
    "   # This pattern aims to match dollar signs that likely denote math by checking for the presence of letters\n",
    "    # It assumes math expressions will have at least one alphabetic character\n",
    "    pattern = r'\\$(?=[^\\d]*[a-zA-Z])[^\\$]+?\\$'\n",
    "\n",
    "    # Replace the matched patterns\n",
    "    content = re.sub(pattern, lambda m: r'\\( ' + m.group(0)[1:-1].strip() + r' \\)', content)\n",
    "    return content\n",
    "\n",
    "# Example usage:\n",
    "markdown_content = \"\"\"\n",
    "Here is a block equation:\n",
    "$$x = {-b \\\\pm \\\\sqrt{b^2-4ac} \\\\over 2a}$$\n",
    "\n",
    "Remember theat I have $5.00 and you gave me $10.00. I also have a variable called $VF.\n",
    "\n",
    "And here is an inline equation: $a^2 + b^2 = c^2$\n",
    "\"\"\"\n",
    "\n",
    "converted_content = convert_equation_brackets_back(markdown_content)\n",
    "print(converted_content)\n"
   ]
  },
  {
   "cell_type": "code",
   "execution_count": 29,
   "metadata": {},
   "outputs": [
    {
     "name": "stdout",
     "output_type": "stream",
     "text": [
      "\n",
      "Remember that I have $5.00 and you gave me $10.00.\n",
      "\n",
      "And here is an inline equation: \\\\(a^2 + b^2 = c^2\\\\)\n",
      "\n"
     ]
    }
   ],
   "source": [
    "import re\n",
    "\n",
    "def convert_equations_while_ignoring_dollar_amounts(content):\n",
    "    # This pattern aims to match dollar signs that likely denote math by checking for the presence of letters\n",
    "    # It assumes math expressions will have at least one alphabetic character\n",
    "    pattern = r'\\$(?=[^\\d]*[a-zA-Z])[^\\$]+?\\$'\n",
    "\n",
    "    # Replace the matched patterns\n",
    "    content = re.sub(pattern, lambda m: r'\\\\(' + m.group(0)[1:-1].strip() + r'\\\\)', content)\n",
    "    \n",
    "    return content\n",
    "\n",
    "# Example usage:\n",
    "markdown_content = \"\"\"\n",
    "Remember that I have $5.00 and you gave me $10.00.\n",
    "\n",
    "And here is an inline equation: $a^2 + b^2 = c^2$\n",
    "\"\"\"\n",
    "\n",
    "converted_content = convert_equations_while_ignoring_dollar_amounts(markdown_content)\n",
    "print(converted_content)\n"
   ]
  },
  {
   "cell_type": "code",
   "execution_count": null,
   "metadata": {},
   "outputs": [],
   "source": []
  }
 ],
 "metadata": {
  "kernelspec": {
   "display_name": "Python 3",
   "language": "python",
   "name": "python3"
  },
  "language_info": {
   "codemirror_mode": {
    "name": "ipython",
    "version": 3
   },
   "file_extension": ".py",
   "mimetype": "text/x-python",
   "name": "python",
   "nbconvert_exporter": "python",
   "pygments_lexer": "ipython3",
   "version": "3.11.2"
  }
 },
 "nbformat": 4,
 "nbformat_minor": 2
}
